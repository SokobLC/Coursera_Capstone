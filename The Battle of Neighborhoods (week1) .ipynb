{
 "cells": [
  {
   "cell_type": "markdown",
   "metadata": {},
   "source": [
    "**The Battle of Neighborhoods Week 1 - Finding the right neighborhood to live in New York City**"
   ]
  },
  {
   "cell_type": "markdown",
   "metadata": {},
   "source": [
    "*INTRODUCTION*"
   ]
  },
  {
   "cell_type": "markdown",
   "metadata": {},
   "source": [
    "**Background**"
   ]
  },
  {
   "cell_type": "markdown",
   "metadata": {},
   "source": [
    "People who want to move to New York City always ask the same question. What neighborhood is best to live in New York City? My question back to them is what type of things you would like to see in your neighborhood? As everyone is different, I cannot say that one neighborhood is better than another because it depends on the individual’s preference. For example, if you have a family with young kids, you would prefer to live near parks, schools, grocery stores, libraries, and so on. However, if you do not have kids, then maybe you might prefer to be closer to bars, clubs, restaurants, etc.\n",
    "\n",
    "This capstone project is to help people find the best neighborhood they want to live in New York City according to their own personal preferences. It will also help those who are visiting New York City to decide which neighborhood to stay and what area is more cost-effective. Also, people who are already living in New York City will benefit from this project as well because just because you live in the city that does not mean you know all the neighborhood and what kind of venues each neighborhood has to offer. The project will people explore the surrounding areas and see what kind of venues are there so they can make the best choice that best fits their needs. "
   ]
  },
  {
   "cell_type": "markdown",
   "metadata": {},
   "source": [
    "**Problem**"
   ]
  },
  {
   "cell_type": "markdown",
   "metadata": {},
   "source": [
    "There are many expat groups in New York City and a lot more people are coming to live in New York City. Each year New York City receive a great amount of tourist all over the world looking for places to stay according to the venues surrounding the neighborhood. For those that live in New York City, some tend to move around the neighborhood depending on their needs and this project will help them decide what neighborhood to move to. \n",
    "\n",
    "The more information we can provide to help people become more aware of the surrounding venues in each neighborhood, the more prepared they will be before visiting or moving to New York City. "
   ]
  },
  {
   "cell_type": "markdown",
   "metadata": {},
   "source": [
    "**Interest**"
   ]
  },
  {
   "cell_type": "markdown",
   "metadata": {},
   "source": [
    "This project is also a personal interest to me because I used to live in New York City but I do not know all the neighborhoods and what kind of venues it entails. This is why I mentioned that just because you live in New York City, that does not mean you know what each neighborhood has to offer. \n",
    "\n",
    "Also, I can share this information with expat communities, friends that planning to visit New York City, and others that would be interested in having this information. "
   ]
  },
  {
   "cell_type": "markdown",
   "metadata": {},
   "source": [
    "*DATA*"
   ]
  },
  {
   "cell_type": "markdown",
   "metadata": {},
   "source": [
    "The data I will collect is similar to what we have been doing from the course materials. I will use the data to convert addresses into their equivalent latitude and longitude values. Also, I will use the Foursquare API to explore neighborhoods in New York City. Then I will use the explore function to get the most common venue categories in each neighborhood, and then use this feature to group the neighborhoods into clusters. \n",
    "I will use the k-means clustering algorithm to complete this task and I will use the Folium library to visualize the neighborhoods in Paris and their emerging clusters.\n",
    "\n",
    "By using all these different methods to make the data more understandable. I can make an analysis of what type of venues each neighborhood in New York City has in order to help those who need help in deciding where to live in New York City. "
   ]
  }
 ],
 "metadata": {
  "kernelspec": {
   "display_name": "Python",
   "language": "python",
   "name": "conda-env-python-py"
  },
  "language_info": {
   "codemirror_mode": {
    "name": "ipython",
    "version": 3
   },
   "file_extension": ".py",
   "mimetype": "text/x-python",
   "name": "python",
   "nbconvert_exporter": "python",
   "pygments_lexer": "ipython3",
   "version": "3.6.11"
  }
 },
 "nbformat": 4,
 "nbformat_minor": 4
}
